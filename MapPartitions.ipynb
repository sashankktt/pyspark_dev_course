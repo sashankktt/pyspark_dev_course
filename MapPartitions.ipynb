{
 "cells": [
  {
   "cell_type": "code",
   "execution_count": 1,
   "metadata": {
    "collapsed": true
   },
   "outputs": [],
   "source": [
    "text = sc.textFile(\"Audio Standardization Sentences.txt\", minPartitions=5)"
   ]
  },
  {
   "cell_type": "code",
   "execution_count": 2,
   "metadata": {
    "collapsed": true
   },
   "outputs": [],
   "source": [
    "words = text.flatMap(lambda x:x.split(\" \"))"
   ]
  },
  {
   "cell_type": "code",
   "execution_count": 3,
   "metadata": {
    "collapsed": true
   },
   "outputs": [],
   "source": [
    "def count_words(iterator):\n",
    "    counts = {}\n",
    "    for w in iterator:\n",
    "        if w in counts:\n",
    "            counts[w] += 1\n",
    "        else:\n",
    "            counts[w] = 1\n",
    "    yield counts"
   ]
  },
  {
   "cell_type": "code",
   "execution_count": 4,
   "metadata": {
    "collapsed": true
   },
   "outputs": [],
   "source": [
    "word_counts = words.mapPartitions(count_words)"
   ]
  },
  {
   "cell_type": "code",
   "execution_count": 5,
   "metadata": {
    "collapsed": false
   },
   "outputs": [
    {
     "data": {
      "text/plain": [
       "[{u'Cats': 1,\n",
       "  u'Oak': 1,\n",
       "  u'The': 1,\n",
       "  u'also': 1,\n",
       "  u'and': 2,\n",
       "  u'began': 1,\n",
       "  u'dogs': 1,\n",
       "  u'each': 1,\n",
       "  u'gives': 1,\n",
       "  u'hate': 1,\n",
       "  u'is': 1,\n",
       "  u'new.': 1,\n",
       "  u'other.': 1,\n",
       "  u'pipe': 1,\n",
       "  u'rust': 1,\n",
       "  u'shade.': 1,\n",
       "  u'strong': 1,\n",
       "  u'the': 1,\n",
       "  u'to': 1,\n",
       "  u'while': 1},\n",
       " {u'Add': 1,\n",
       "  u'Open': 1,\n",
       "  u'break': 1,\n",
       "  u'but': 1,\n",
       "  u'crate': 1,\n",
       "  u\"don't\": 1,\n",
       "  u'glass.': 1,\n",
       "  u'of': 1,\n",
       "  u'product': 1,\n",
       "  u'sum': 1,\n",
       "  u'the': 4,\n",
       "  u'these': 1,\n",
       "  u'three.': 1,\n",
       "  u'to': 1},\n",
       " {u'The': 1,\n",
       "  u'Thieves': 1,\n",
       "  u'age.': 1,\n",
       "  u'cheese': 1,\n",
       "  u'deserve': 1,\n",
       "  u'friends': 1,\n",
       "  u'improves': 1,\n",
       "  u'jail.': 1,\n",
       "  u'of': 1,\n",
       "  u'ripe': 1,\n",
       "  u'rob': 1,\n",
       "  u'taste': 1,\n",
       "  u'who': 1,\n",
       "  u'with': 1},\n",
       " {u'Act': 1,\n",
       "  u'great': 1,\n",
       "  u'on': 1,\n",
       "  u'orders': 1,\n",
       "  u'speed.': 1,\n",
       "  u'these': 1,\n",
       "  u'with': 1},\n",
       " {u'Move': 1,\n",
       "  u'The': 1,\n",
       "  u'crawled': 1,\n",
       "  u'fence.': 1,\n",
       "  u'fire.': 1,\n",
       "  u'high': 1,\n",
       "  u'hog': 1,\n",
       "  u'hot': 1,\n",
       "  u'over': 1,\n",
       "  u'the': 3,\n",
       "  u'under': 1,\n",
       "  u'vat': 1}]"
      ]
     },
     "execution_count": 5,
     "metadata": {},
     "output_type": "execute_result"
    }
   ],
   "source": [
    "word_counts.collect()"
   ]
  },
  {
   "cell_type": "code",
   "execution_count": null,
   "metadata": {
    "collapsed": true
   },
   "outputs": [],
   "source": [
    "def faster_lookup(iterator):\n",
    "    db = make_db_connection()\n",
    "    for id in iterator:\n",
    "        yield db.lookup(id)"
   ]
  }
 ],
 "metadata": {
  "kernelspec": {
   "display_name": "Python 2",
   "language": "python",
   "name": "python2"
  },
  "language_info": {
   "codemirror_mode": {
    "name": "ipython",
    "version": 2
   },
   "file_extension": ".py",
   "mimetype": "text/x-python",
   "name": "python",
   "nbconvert_exporter": "python",
   "pygments_lexer": "ipython2",
   "version": "2.7.5"
  }
 },
 "nbformat": 4,
 "nbformat_minor": 0
}
