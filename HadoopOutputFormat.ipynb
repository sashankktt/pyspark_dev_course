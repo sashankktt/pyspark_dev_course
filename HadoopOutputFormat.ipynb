{
 "cells": [
  {
   "cell_type": "raw",
   "metadata": {},
   "source": [
    "Old API - org.apache.hadoop.mapred\n",
    "saveAsHadoopDataset\n",
    "saveAsHadoopFile"
   ]
  },
  {
   "cell_type": "raw",
   "metadata": {},
   "source": [
    "New API - org.apache.hadoop.mapreduce\n",
    "saveAsNewAPIHadoopDataset\n",
    "saveAsNewAPIHadoopFile"
   ]
  },
  {
   "cell_type": "raw",
   "metadata": {},
   "source": [
    "rdd.saveAsHadoopDataset(conf, keyConverter, valueConverter)"
   ]
  },
  {
   "cell_type": "raw",
   "metadata": {},
   "source": [
    "rdd.saveAsHadoopFile(\n",
    "  path = \"output-file\",\n",
    "  outputFormatClass = \"org.apache.hadoop.mapred.TextOutputFormat\",\n",
    "  keyClass=None,\n",
    "  valueClass=None,\n",
    "  keyConverter=None,\n",
    "  valueConverter=None,\n",
    "  conf=None,\n",
    "  compressionCodecClass=\"org.apache.hadoop.io.compress.GzipCodec\")"
   ]
  },
  {
   "cell_type": "code",
   "execution_count": null,
   "metadata": {
    "collapsed": true
   },
   "outputs": [],
   "source": []
  }
 ],
 "metadata": {
  "kernelspec": {
   "display_name": "Python 2",
   "language": "python",
   "name": "python2"
  },
  "language_info": {
   "codemirror_mode": {
    "name": "ipython",
    "version": 2
   },
   "file_extension": ".py",
   "mimetype": "text/x-python",
   "name": "python",
   "nbconvert_exporter": "python",
   "pygments_lexer": "ipython2",
   "version": "2.7.5"
  }
 },
 "nbformat": 4,
 "nbformat_minor": 0
}
