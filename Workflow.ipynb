{
 "cells": [
  {
   "cell_type": "raw",
   "metadata": {},
   "source": [
    "Read data into an RDD\n",
    "\n",
    "Use transformations to change the data\n",
    "\n",
    "Finish with an action to force the transformations."
   ]
  },
  {
   "cell_type": "raw",
   "metadata": {},
   "source": [
    "Improve performance by minimizing shuffles, caching reused datasets\n",
    "and by using broadcast variables where appropriate."
   ]
  },
  {
   "cell_type": "raw",
   "metadata": {},
   "source": [
    "MLlib for machine learning problems"
   ]
  },
  {
   "cell_type": "raw",
   "metadata": {},
   "source": [
    "Spark Streaming for any live datastreams"
   ]
  },
  {
   "cell_type": "raw",
   "metadata": {},
   "source": [
    "Spark SQL for structured data"
   ]
  }
 ],
 "metadata": {
  "kernelspec": {
   "display_name": "Python 2",
   "language": "python",
   "name": "python2"
  },
  "language_info": {
   "codemirror_mode": {
    "name": "ipython",
    "version": 2
   },
   "file_extension": ".py",
   "mimetype": "text/x-python",
   "name": "python",
   "nbconvert_exporter": "python",
   "pygments_lexer": "ipython2",
   "version": "2.7.5"
  }
 },
 "nbformat": 4,
 "nbformat_minor": 0
}
