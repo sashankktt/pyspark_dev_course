{
 "cells": [
  {
   "cell_type": "code",
   "execution_count": 1,
   "metadata": {
    "collapsed": true
   },
   "outputs": [],
   "source": [
    "rdd = sc.parallelize(xrange(10), numSlices=3)"
   ]
  },
  {
   "cell_type": "code",
   "execution_count": 2,
   "metadata": {
    "collapsed": false
   },
   "outputs": [
    {
     "data": {
      "text/plain": [
       "[[0, 1, 2], [3, 4, 5], [6, 7, 8, 9]]"
      ]
     },
     "execution_count": 2,
     "metadata": {},
     "output_type": "execute_result"
    }
   ],
   "source": [
    "rdd.glom().collect()"
   ]
  },
  {
   "cell_type": "raw",
   "metadata": {},
   "source": [
    "RDD A\n",
    "RDD B"
   ]
  },
  {
   "cell_type": "raw",
   "metadata": {},
   "source": [
    "a.join(b).reduceByKey(...)"
   ]
  },
  {
   "cell_type": "raw",
   "metadata": {},
   "source": [
    "a.join(b).map(...).reduceByKey(...)"
   ]
  },
  {
   "cell_type": "raw",
   "metadata": {},
   "source": [
    "a.join(b).map(..., preservesPartitioning=True).reduceByKey(...)"
   ]
  },
  {
   "cell_type": "raw",
   "metadata": {},
   "source": [
    "a.join(b).mapValues(...).reduceByKey(...)"
   ]
  },
  {
   "cell_type": "code",
   "execution_count": null,
   "metadata": {
    "collapsed": true
   },
   "outputs": [],
   "source": []
  }
 ],
 "metadata": {
  "kernelspec": {
   "display_name": "Python 2",
   "language": "python",
   "name": "python2"
  },
  "language_info": {
   "codemirror_mode": {
    "name": "ipython",
    "version": 2
   },
   "file_extension": ".py",
   "mimetype": "text/x-python",
   "name": "python",
   "nbconvert_exporter": "python",
   "pygments_lexer": "ipython2",
   "version": "2.7.5"
  }
 },
 "nbformat": 4,
 "nbformat_minor": 0
}
