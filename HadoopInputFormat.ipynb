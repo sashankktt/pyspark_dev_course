{
 "cells": [
  {
   "cell_type": "raw",
   "metadata": {},
   "source": [
    "org.apache.hadoop.mapred\n",
    "Old version"
   ]
  },
  {
   "cell_type": "raw",
   "metadata": {},
   "source": [
    "org.apache.hadoop.mapreduce\n",
    "New version"
   ]
  },
  {
   "cell_type": "raw",
   "metadata": {},
   "source": [
    "Old version\n",
    "sc.hadoopFile\n",
    "sc.hadoopRDD"
   ]
  },
  {
   "cell_type": "raw",
   "metadata": {},
   "source": [
    "New Version\n",
    "sc.newAPIHadoopFile\n",
    "sc.newAPIHadoopRDD"
   ]
  },
  {
   "cell_type": "code",
   "execution_count": 1,
   "metadata": {
    "collapsed": true
   },
   "outputs": [],
   "source": [
    "rdd = sc.newAPIHadoopFile(\n",
    "  path=\"test.txt\",\n",
    "  inputFormatClass=\"org.apache.hadoop.mapreduce.lib.input.TextInputFormat\",\n",
    "  keyClass=\"org.apache.hadoop.io.LongWritable\",\n",
    "  valueClass=\"org.apache.hadoop.io.Text\",\n",
    "  keyConverter=None,\n",
    "  valueConverter=None,\n",
    "  conf={},\n",
    "  batchSize=0)"
   ]
  },
  {
   "cell_type": "code",
   "execution_count": 2,
   "metadata": {
    "collapsed": false
   },
   "outputs": [
    {
     "data": {
      "text/plain": [
       "[(0, u'This is some test data.'), (24, u'That takes more than one line.')]"
      ]
     },
     "execution_count": 2,
     "metadata": {},
     "output_type": "execute_result"
    }
   ],
   "source": [
    "rdd.collect()"
   ]
  },
  {
   "cell_type": "code",
   "execution_count": null,
   "metadata": {
    "collapsed": true
   },
   "outputs": [],
   "source": []
  }
 ],
 "metadata": {
  "kernelspec": {
   "display_name": "Python 2",
   "language": "python",
   "name": "python2"
  },
  "language_info": {
   "codemirror_mode": {
    "name": "ipython",
    "version": 2
   },
   "file_extension": ".py",
   "mimetype": "text/x-python",
   "name": "python",
   "nbconvert_exporter": "python",
   "pygments_lexer": "ipython2",
   "version": "2.7.5"
  }
 },
 "nbformat": 4,
 "nbformat_minor": 0
}
