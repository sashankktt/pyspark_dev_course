{
 "cells": [
  {
   "cell_type": "markdown",
   "metadata": {},
   "source": [
    "# PySpark"
   ]
  },
  {
   "cell_type": "markdown",
   "metadata": {},
   "source": [
    "Installing Python and Spark\n",
    "\n",
    "Spark Fundamentals\n",
    "\n",
    "Transformations\n",
    "\n",
    "Actions\n",
    "\n",
    "Key-Value Pair RDDs\n",
    "\n",
    "Input/Output\n",
    "\n",
    "Performance\n",
    "\n",
    "Running on a Cluster\n",
    "\n",
    "Advanced Spark"
   ]
  }
 ],
 "metadata": {
  "kernelspec": {
   "display_name": "Python 2",
   "language": "python",
   "name": "python2"
  },
  "language_info": {
   "codemirror_mode": {
    "name": "ipython",
    "version": 2
   },
   "file_extension": ".py",
   "mimetype": "text/x-python",
   "name": "python",
   "nbconvert_exporter": "python",
   "pygments_lexer": "ipython2",
   "version": "2.7.5"
  }
 },
 "nbformat": 4,
 "nbformat_minor": 0
}
