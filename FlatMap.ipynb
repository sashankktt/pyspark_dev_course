{
 "cells": [
  {
   "cell_type": "code",
   "execution_count": 1,
   "metadata": {
    "collapsed": true
   },
   "outputs": [],
   "source": [
    "text = sc.textFile(\"Audio Standardization Sentences.txt\")"
   ]
  },
  {
   "cell_type": "code",
   "execution_count": 2,
   "metadata": {
    "collapsed": false
   },
   "outputs": [
    {
     "data": {
      "text/plain": [
       "[u'Oak is strong and also gives shade.',\n",
       " u'Cats and dogs each hate the other.',\n",
       " u'The pipe began to rust while new.',\n",
       " u\"Open the crate but don't break the glass.\",\n",
       " u'Add the sum to the product of these three.',\n",
       " u'Thieves who rob friends deserve jail.',\n",
       " u'The ripe taste of cheese improves with age.',\n",
       " u'Act on these orders with great speed.',\n",
       " u'The hog crawled under the high fence.',\n",
       " u'Move the vat over the hot fire.']"
      ]
     },
     "execution_count": 2,
     "metadata": {},
     "output_type": "execute_result"
    }
   ],
   "source": [
    "text.collect()"
   ]
  },
  {
   "cell_type": "code",
   "execution_count": 3,
   "metadata": {
    "collapsed": true
   },
   "outputs": [],
   "source": [
    "words = text.flatMap(lambda x: x.split(\" \"))"
   ]
  },
  {
   "cell_type": "code",
   "execution_count": 4,
   "metadata": {
    "collapsed": false
   },
   "outputs": [
    {
     "data": {
      "text/plain": [
       "[u'Oak',\n",
       " u'is',\n",
       " u'strong',\n",
       " u'and',\n",
       " u'also',\n",
       " u'gives',\n",
       " u'shade.',\n",
       " u'Cats',\n",
       " u'and',\n",
       " u'dogs',\n",
       " u'each',\n",
       " u'hate',\n",
       " u'the',\n",
       " u'other.',\n",
       " u'The',\n",
       " u'pipe',\n",
       " u'began',\n",
       " u'to',\n",
       " u'rust',\n",
       " u'while',\n",
       " u'new.',\n",
       " u'Open',\n",
       " u'the',\n",
       " u'crate',\n",
       " u'but',\n",
       " u\"don't\",\n",
       " u'break',\n",
       " u'the',\n",
       " u'glass.',\n",
       " u'Add',\n",
       " u'the',\n",
       " u'sum',\n",
       " u'to',\n",
       " u'the',\n",
       " u'product',\n",
       " u'of',\n",
       " u'these',\n",
       " u'three.',\n",
       " u'Thieves',\n",
       " u'who',\n",
       " u'rob',\n",
       " u'friends',\n",
       " u'deserve',\n",
       " u'jail.',\n",
       " u'The',\n",
       " u'ripe',\n",
       " u'taste',\n",
       " u'of',\n",
       " u'cheese',\n",
       " u'improves',\n",
       " u'with',\n",
       " u'age.',\n",
       " u'Act',\n",
       " u'on',\n",
       " u'these',\n",
       " u'orders',\n",
       " u'with',\n",
       " u'great',\n",
       " u'speed.',\n",
       " u'The',\n",
       " u'hog',\n",
       " u'crawled',\n",
       " u'under',\n",
       " u'the',\n",
       " u'high',\n",
       " u'fence.',\n",
       " u'Move',\n",
       " u'the',\n",
       " u'vat',\n",
       " u'over',\n",
       " u'the',\n",
       " u'hot',\n",
       " u'fire.']"
      ]
     },
     "execution_count": 4,
     "metadata": {},
     "output_type": "execute_result"
    }
   ],
   "source": [
    "words.collect()"
   ]
  },
  {
   "cell_type": "code",
   "execution_count": 5,
   "metadata": {
    "collapsed": false
   },
   "outputs": [
    {
     "data": {
      "text/plain": [
       "[[u'Oak', u'is', u'strong', u'and', u'also', u'gives', u'shade.'],\n",
       " [u'Cats', u'and', u'dogs', u'each', u'hate', u'the', u'other.'],\n",
       " [u'The', u'pipe', u'began', u'to', u'rust', u'while', u'new.'],\n",
       " [u'Open', u'the', u'crate', u'but', u\"don't\", u'break', u'the', u'glass.'],\n",
       " [u'Add',\n",
       "  u'the',\n",
       "  u'sum',\n",
       "  u'to',\n",
       "  u'the',\n",
       "  u'product',\n",
       "  u'of',\n",
       "  u'these',\n",
       "  u'three.'],\n",
       " [u'Thieves', u'who', u'rob', u'friends', u'deserve', u'jail.'],\n",
       " [u'The', u'ripe', u'taste', u'of', u'cheese', u'improves', u'with', u'age.'],\n",
       " [u'Act', u'on', u'these', u'orders', u'with', u'great', u'speed.'],\n",
       " [u'The', u'hog', u'crawled', u'under', u'the', u'high', u'fence.'],\n",
       " [u'Move', u'the', u'vat', u'over', u'the', u'hot', u'fire.']]"
      ]
     },
     "execution_count": 5,
     "metadata": {},
     "output_type": "execute_result"
    }
   ],
   "source": [
    "text.map(lambda x: x.split(\" \")).collect()"
   ]
  },
  {
   "cell_type": "code",
   "execution_count": 6,
   "metadata": {
    "collapsed": false
   },
   "outputs": [
    {
     "data": {
      "text/plain": [
       "73"
      ]
     },
     "execution_count": 6,
     "metadata": {},
     "output_type": "execute_result"
    }
   ],
   "source": [
    "words.count()"
   ]
  },
  {
   "cell_type": "code",
   "execution_count": null,
   "metadata": {
    "collapsed": true
   },
   "outputs": [],
   "source": []
  }
 ],
 "metadata": {
  "kernelspec": {
   "display_name": "Python 2",
   "language": "python",
   "name": "python2"
  },
  "language_info": {
   "codemirror_mode": {
    "name": "ipython",
    "version": 2
   },
   "file_extension": ".py",
   "mimetype": "text/x-python",
   "name": "python",
   "nbconvert_exporter": "python",
   "pygments_lexer": "ipython2",
   "version": "2.7.5"
  }
 },
 "nbformat": 4,
 "nbformat_minor": 0
}
