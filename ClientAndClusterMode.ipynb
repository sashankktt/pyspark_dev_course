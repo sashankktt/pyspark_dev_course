{
 "cells": [
  {
   "cell_type": "raw",
   "metadata": {},
   "source": [
    "Client Mode\n",
    "  - Driver runs in client\n",
    "  - Master gets resources, communicates resources back to client\n",
    "  - Client communicates directly with executors"
   ]
  },
  {
   "cell_type": "raw",
   "metadata": {},
   "source": [
    "Cluster Mode\n",
    "  - Driver runs in master in the cluster\n",
    "  - Master communicates with executors, all within the cluster\n",
    "  - Client exits as soon as it passes info to the master"
   ]
  }
 ],
 "metadata": {
  "kernelspec": {
   "display_name": "Python 2",
   "language": "python",
   "name": "python2"
  },
  "language_info": {
   "codemirror_mode": {
    "name": "ipython",
    "version": 2
   },
   "file_extension": ".py",
   "mimetype": "text/x-python",
   "name": "python",
   "nbconvert_exporter": "python",
   "pygments_lexer": "ipython2",
   "version": "2.7.5"
  }
 },
 "nbformat": 4,
 "nbformat_minor": 0
}
